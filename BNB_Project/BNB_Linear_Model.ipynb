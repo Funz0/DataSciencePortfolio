{
 "cells": [
  {
   "cell_type": "markdown",
   "metadata": {
    "pycharm": {
     "name": "#%% md\n"
    }
   },
   "source": [
    "## Binance Coin Linear Modeling Project\n",
    "\n",
    "The purpose of this project is to..."
   ]
  },
  {
   "cell_type": "code",
   "execution_count": 6,
   "metadata": {
    "pycharm": {
     "name": "#%%\n"
    }
   },
   "outputs": [],
   "source": [
    "import pandas as pd\n",
    "import os\n",
    "from binance import Client"
   ]
  },
  {
   "cell_type": "code",
   "execution_count": 24,
   "metadata": {
    "pycharm": {
     "name": "#%%\n"
    }
   },
   "outputs": [],
   "source": [
    "# save binance API keys to respective vars\n",
    "api_key = os.environ.get('binance_api')\n",
    "api_secret = os.environ.get('binance_secret')\n",
    "api_key, api_secret\n",
    "# store keys to local variables in client\n",
    "client = Client(api_key, api_secret)\n",
    "# add API url\n",
    "client.API_URL = 'https://api.binance.us/api'"
   ]
  },
  {
   "cell_type": "code",
   "execution_count": 21,
   "metadata": {},
   "outputs": [
    {
     "name": "stdout",
     "output_type": "stream",
     "text": [
      "{'symbol': 'BNBUSDT', 'price': '321.58090000'}\n"
     ]
    }
   ],
   "source": [
    "# get latest BNB price (dictionary)\n",
    "bnb_price = client.get_symbol_ticker(symbol=\"BNBUSDT\")\n",
    "print(bnb_price)"
   ]
  },
  {
   "cell_type": "markdown",
   "metadata": {},
   "source": [
    "#### The data used in this project was sourced from Kaggle user [batucan](https://www.kaggle.com/datasets/psycon/bnbusdt-2017-to-2022-historical-dataset), which contains historical data from 2017 until May 2022 of the Binance Coin (BNBUDST)."
   ]
  },
  {
   "cell_type": "code",
   "execution_count": 44,
   "metadata": {
    "scrolled": true
   },
   "outputs": [
    {
     "name": "stdout",
     "output_type": "stream",
     "text": [
      "                       Open Time     Open     High      Low    Close  \\\n",
      "0  2019-07-30 00:00:00.000000000  26.9539  26.9879  26.7054  26.8398   \n",
      "1  2019-07-30 00:30:00.000000000  26.8452  26.8452  26.7002  26.7596   \n",
      "2  2019-07-30 01:00:00.000000000  26.7550  26.7598  26.5236  26.5297   \n",
      "3  2019-07-30 01:30:00.000000000  26.5295  26.5800  26.4221  26.4300   \n",
      "4  2019-07-30 02:00:00.000000000  26.4284  26.5238  26.3500  26.4651   \n",
      "\n",
      "     Volume                     Close Time  Quote Asset Volume  \\\n",
      "0  83790.68  2019-07-30 00:29:59.999000064        2.249682e+06   \n",
      "1  28550.18  2019-07-30 00:59:59.999000064        7.635145e+05   \n",
      "2  22427.34  2019-07-30 01:29:59.999000064        5.970836e+05   \n",
      "3  20949.20  2019-07-30 01:59:59.999000064        5.555514e+05   \n",
      "4  19889.31  2019-07-30 02:29:59.999000064        5.255639e+05   \n",
      "\n",
      "   Number of Trades  TB Base Volume  TB Quote Volume  Ignore  \n",
      "0              2523        29443.37    790871.929689       0  \n",
      "1               997        10730.35    286979.777296       0  \n",
      "2              1353        11489.86    305899.381354       0  \n",
      "3               984         9762.10    258905.489111       0  \n",
      "4              1076         9742.50    257489.199236       0  \n",
      "<class 'pandas.core.frame.DataFrame'>\n",
      "RangeIndex: 49623 entries, 0 to 49622\n",
      "Data columns (total 12 columns):\n",
      " #   Column              Non-Null Count  Dtype  \n",
      "---  ------              --------------  -----  \n",
      " 0   Open Time           49623 non-null  object \n",
      " 1   Open                49623 non-null  float64\n",
      " 2   High                49623 non-null  float64\n",
      " 3   Low                 49623 non-null  float64\n",
      " 4   Close               49623 non-null  float64\n",
      " 5   Volume              49623 non-null  float64\n",
      " 6   Close Time          49623 non-null  object \n",
      " 7   Quote Asset Volume  49623 non-null  float64\n",
      " 8   Number of Trades    49623 non-null  int64  \n",
      " 9   TB Base Volume      49623 non-null  float64\n",
      " 10  TB Quote Volume     49623 non-null  float64\n",
      " 11  Ignore              49623 non-null  int64  \n",
      "dtypes: float64(8), int64(2), object(2)\n",
      "memory usage: 4.5+ MB\n",
      "None\n",
      "Index(['Open Time', 'Open', 'High', 'Low', 'Close', 'Volume', 'Close Time',\n",
      "       'Quote Asset Volume', 'Number of Trades', 'TB Base Volume',\n",
      "       'TB Quote Volume', 'Ignore'],\n",
      "      dtype='object')\n"
     ]
    }
   ],
   "source": [
    "# load BNBUSDT data\n",
    "bnb = pd.read_csv('bnb-usdt.csv')\n",
    "print(bnb.head())\n",
    "print(bnb.info())"
   ]
  }
 ],
 "metadata": {
  "kernelspec": {
   "display_name": "Python 3 (ipykernel)",
   "language": "python",
   "name": "python3"
  },
  "language_info": {
   "codemirror_mode": {
    "name": "ipython",
    "version": 3
   },
   "file_extension": ".py",
   "mimetype": "text/x-python",
   "name": "python",
   "nbconvert_exporter": "python",
   "pygments_lexer": "ipython3",
   "version": "3.10.4"
  }
 },
 "nbformat": 4,
 "nbformat_minor": 1
}
